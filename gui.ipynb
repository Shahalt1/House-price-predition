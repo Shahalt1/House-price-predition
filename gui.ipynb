{
 "cells": [
  {
   "cell_type": "code",
   "execution_count": 1,
   "metadata": {},
   "outputs": [],
   "source": [
    "import tkinter\n",
    "import pickle\n",
    "import numpy as np\n",
    "import customtkinter"
   ]
  },
  {
   "cell_type": "code",
   "execution_count": 5,
   "metadata": {},
   "outputs": [],
   "source": [
    "with open(r\"C:\\Users\\j\\Desktop\\projects\\project 1\\Real Estate GUI\\house_price.pickle\", 'rb') as f:\n",
    "    model = pickle.load(f)"
   ]
  },
  {
   "cell_type": "code",
   "execution_count": 7,
   "metadata": {},
   "outputs": [
    {
     "name": "stderr",
     "output_type": "stream",
     "text": [
      "C:\\Users\\j\\AppData\\Roaming\\Python\\Python311\\site-packages\\sklearn\\base.py:464: UserWarning: X does not have valid feature names, but RandomForestRegressor was fitted with feature names\n",
      "  warnings.warn(\n"
     ]
    },
    {
     "data": {
      "text/plain": [
       "array([413071.19408369])"
      ]
     },
     "execution_count": 7,
     "metadata": {},
     "output_type": "execute_result"
    }
   ],
   "source": [
    "model.predict([[1500,1,1]])"
   ]
  },
  {
   "cell_type": "code",
   "execution_count": 22,
   "metadata": {},
   "outputs": [
    {
     "name": "stderr",
     "output_type": "stream",
     "text": [
      "C:\\Users\\j\\AppData\\Roaming\\Python\\Python311\\site-packages\\sklearn\\base.py:464: UserWarning: X does not have valid feature names, but RandomForestRegressor was fitted with feature names\n",
      "  warnings.warn(\n",
      "C:\\Users\\j\\AppData\\Roaming\\Python\\Python311\\site-packages\\sklearn\\base.py:464: UserWarning: X does not have valid feature names, but RandomForestRegressor was fitted with feature names\n",
      "  warnings.warn(\n",
      "C:\\Users\\j\\AppData\\Roaming\\Python\\Python311\\site-packages\\sklearn\\base.py:464: UserWarning: X does not have valid feature names, but RandomForestRegressor was fitted with feature names\n",
      "  warnings.warn(\n",
      "C:\\Users\\j\\AppData\\Roaming\\Python\\Python311\\site-packages\\sklearn\\base.py:464: UserWarning: X does not have valid feature names, but RandomForestRegressor was fitted with feature names\n",
      "  warnings.warn(\n",
      "C:\\Users\\j\\AppData\\Roaming\\Python\\Python311\\site-packages\\sklearn\\base.py:464: UserWarning: X does not have valid feature names, but RandomForestRegressor was fitted with feature names\n",
      "  warnings.warn(\n"
     ]
    }
   ],
   "source": [
    "\n",
    "\n",
    "customtkinter.set_appearance_mode(\"System\")  # Modes: system (default), light, dark\n",
    "customtkinter.set_default_color_theme(\"blue\")  # Themes: blue (default), dark-blue, green\n",
    "\n",
    "class PropertyCalculatorApp(customtkinter.CTk):\n",
    "    def __init__(self):\n",
    "        super().__init__()\n",
    "\n",
    "        self.title(\"Property Calculator\")\n",
    "        self.geometry(\"255x200\")\n",
    "\n",
    "        # Labels and Entry Widgets\n",
    "        self.square_feet_label = customtkinter.CTkLabel(self, text=\"Square Feet:\")\n",
    "        self.square_feet_label.grid(row=0, column=0, padx=10, pady=10)\n",
    "        self.square_feet_entry = customtkinter.CTkEntry(self)\n",
    "        self.square_feet_entry.grid(row=0, column=1, padx=10, pady=10)\n",
    "\n",
    "        self.bedrooms_label = customtkinter.CTkLabel(self, text=\"Bedrooms:\")\n",
    "        self.bedrooms_label.grid(row=1, column=0, padx=10, pady=10)\n",
    "        self.bedrooms_entry = customtkinter.CTkEntry(self)\n",
    "        self.bedrooms_entry.grid(row=1, column=1, padx=10, pady=10)\n",
    "\n",
    "        self.bathrooms_label = customtkinter.CTkLabel(self, text=\"Bathrooms:\")\n",
    "        self.bathrooms_label.grid(row=2, column=0, padx=10, pady=10)\n",
    "        self.bathrooms_entry = customtkinter.CTkEntry(self)\n",
    "        self.bathrooms_entry.grid(row=2, column=1, padx=10, pady=10)\n",
    "\n",
    "        # Submit Button\n",
    "        self.submit_button = customtkinter.CTkButton(self, text=\"Predict the price\", command=self.calculate_result)\n",
    "        self.submit_button.grid(row=3, column=0, columnspan=2, pady=10)\n",
    "\n",
    "        # Result Label\n",
    "        self.result_label = customtkinter.CTkLabel(self, text=\"\")\n",
    "        self.result_label.grid(row=4, column=0, columnspan=2, pady=10)\n",
    "\n",
    "    def calculate_result(self):\n",
    "        try:\n",
    "            # Get input values\n",
    "            square_feet = int(self.square_feet_entry.get())\n",
    "            bedrooms = int(self.bedrooms_entry.get())\n",
    "            bathrooms = int(self.bathrooms_entry.get())\n",
    "\n",
    "            # Perform calculation (replace this with your own logic)\n",
    "            result = round(model.predict([[square_feet, bedrooms,bathrooms]])[0])\n",
    "\n",
    "            # Display the result\n",
    "            self.result_label.configure(text=f\"Price in Rupees: {result}\")\n",
    "        except ValueError:\n",
    "            self.result_label.configure(text=\"Please enter valid integer values.\")\n",
    "\n",
    "if __name__ == \"__main__\":\n",
    "    app = PropertyCalculatorApp()\n",
    "    app.mainloop()\n"
   ]
  }
 ],
 "metadata": {
  "kernelspec": {
   "display_name": "Python 3",
   "language": "python",
   "name": "python3"
  },
  "language_info": {
   "codemirror_mode": {
    "name": "ipython",
    "version": 3
   },
   "file_extension": ".py",
   "mimetype": "text/x-python",
   "name": "python",
   "nbconvert_exporter": "python",
   "pygments_lexer": "ipython3",
   "version": "3.11.4"
  }
 },
 "nbformat": 4,
 "nbformat_minor": 2
}
